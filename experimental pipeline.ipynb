{
 "cells": [
  {
   "cell_type": "markdown",
   "metadata": {
    "heading_collapsed": true
   },
   "source": [
    "# Libraries"
   ]
  },
  {
   "cell_type": "code",
   "execution_count": 3,
   "metadata": {
    "hidden": true
   },
   "outputs": [],
   "source": [
    "import pandas as pd\n",
    "import numpy as np\n",
    "from ast import literal_eval\n",
    "from transformers import BertTokenizer, BertModel\n",
    "import networkx as nx\n",
    "\n",
    "from src.controller import generator, trainer\n",
    "from src.lib import extractor"
   ]
  },
  {
   "cell_type": "markdown",
   "metadata": {
    "heading_collapsed": true
   },
   "source": [
    "# Data preparation"
   ]
  },
  {
   "cell_type": "code",
   "execution_count": 4,
   "metadata": {
    "hidden": true
   },
   "outputs": [],
   "source": [
    "DATA_PATH = './data/'"
   ]
  },
  {
   "cell_type": "code",
   "execution_count": 5,
   "metadata": {
    "hidden": true
   },
   "outputs": [],
   "source": [
    "def prepare_data():\n",
    "    ''' This function reads data from the existing data source'''\n",
    "    global DATA_PATH\n",
    "    \n",
    "    doc_df = pd.read_csv('{}raw_data.csv'.format(DATA_PATH))\n",
    "    ed_df = pd.read_csv('{}ep_df.csv'.format(DATA_PATH))\n",
    "    \n",
    "    with open('{}stopword.txt'.format(DATA_PATH)) as f:\n",
    "        stopwords = literal_eval(f.read())\n",
    "    \n",
    "    with open('{}topics.txt'.format(DATA_PATH)) as f:\n",
    "        topics = literal_eval(f.read())\n",
    "    \n",
    "    return doc_df, ed_df, stopwords, topics"
   ]
  },
  {
   "cell_type": "code",
   "execution_count": 6,
   "metadata": {
    "hidden": true
   },
   "outputs": [],
   "source": [
    "doc_df, ed_df, stopwords, topics = prepare_data()"
   ]
  },
  {
   "cell_type": "code",
   "execution_count": 7,
   "metadata": {
    "hidden": true
   },
   "outputs": [
    {
     "data": {
      "text/html": [
       "<div>\n",
       "<style scoped>\n",
       "    .dataframe tbody tr th:only-of-type {\n",
       "        vertical-align: middle;\n",
       "    }\n",
       "\n",
       "    .dataframe tbody tr th {\n",
       "        vertical-align: top;\n",
       "    }\n",
       "\n",
       "    .dataframe thead th {\n",
       "        text-align: right;\n",
       "    }\n",
       "</style>\n",
       "<table border=\"1\" class=\"dataframe\">\n",
       "  <thead>\n",
       "    <tr style=\"text-align: right;\">\n",
       "      <th></th>\n",
       "      <th>doc_id</th>\n",
       "      <th>text</th>\n",
       "    </tr>\n",
       "  </thead>\n",
       "  <tbody>\n",
       "    <tr>\n",
       "      <th>0</th>\n",
       "      <td>d1</td>\n",
       "      <td>Finding similar questions in large question an...</td>\n",
       "    </tr>\n",
       "    <tr>\n",
       "      <th>1</th>\n",
       "      <td>d2</td>\n",
       "      <td>Evaluating Document Clustering for Interactive...</td>\n",
       "    </tr>\n",
       "    <tr>\n",
       "      <th>2</th>\n",
       "      <td>d3</td>\n",
       "      <td>Automatically classifying database workloads. ...</td>\n",
       "    </tr>\n",
       "    <tr>\n",
       "      <th>3</th>\n",
       "      <td>d4</td>\n",
       "      <td>A new approach to intranet search based on inf...</td>\n",
       "    </tr>\n",
       "  </tbody>\n",
       "</table>\n",
       "</div>"
      ],
      "text/plain": [
       "  doc_id                                               text\n",
       "0     d1  Finding similar questions in large question an...\n",
       "1     d2  Evaluating Document Clustering for Interactive...\n",
       "2     d3  Automatically classifying database workloads. ...\n",
       "3     d4  A new approach to intranet search based on inf..."
      ]
     },
     "metadata": {},
     "output_type": "display_data"
    },
    {
     "data": {
      "text/html": [
       "<div>\n",
       "<style scoped>\n",
       "    .dataframe tbody tr th:only-of-type {\n",
       "        vertical-align: middle;\n",
       "    }\n",
       "\n",
       "    .dataframe tbody tr th {\n",
       "        vertical-align: top;\n",
       "    }\n",
       "\n",
       "    .dataframe thead th {\n",
       "        text-align: right;\n",
       "    }\n",
       "</style>\n",
       "<table border=\"1\" class=\"dataframe\">\n",
       "  <thead>\n",
       "    <tr style=\"text-align: right;\">\n",
       "      <th></th>\n",
       "      <th>doc_id</th>\n",
       "      <th>exp_id</th>\n",
       "      <th>weight</th>\n",
       "    </tr>\n",
       "  </thead>\n",
       "  <tbody>\n",
       "    <tr>\n",
       "      <th>0</th>\n",
       "      <td>d1</td>\n",
       "      <td>e1</td>\n",
       "      <td>1</td>\n",
       "    </tr>\n",
       "    <tr>\n",
       "      <th>1</th>\n",
       "      <td>d1</td>\n",
       "      <td>e2</td>\n",
       "      <td>1</td>\n",
       "    </tr>\n",
       "    <tr>\n",
       "      <th>2</th>\n",
       "      <td>d2</td>\n",
       "      <td>e2</td>\n",
       "      <td>1</td>\n",
       "    </tr>\n",
       "    <tr>\n",
       "      <th>3</th>\n",
       "      <td>d2</td>\n",
       "      <td>e4</td>\n",
       "      <td>1</td>\n",
       "    </tr>\n",
       "    <tr>\n",
       "      <th>4</th>\n",
       "      <td>d3</td>\n",
       "      <td>e1</td>\n",
       "      <td>1</td>\n",
       "    </tr>\n",
       "    <tr>\n",
       "      <th>5</th>\n",
       "      <td>d3</td>\n",
       "      <td>e3</td>\n",
       "      <td>1</td>\n",
       "    </tr>\n",
       "    <tr>\n",
       "      <th>6</th>\n",
       "      <td>d4</td>\n",
       "      <td>e1</td>\n",
       "      <td>1</td>\n",
       "    </tr>\n",
       "    <tr>\n",
       "      <th>7</th>\n",
       "      <td>d4</td>\n",
       "      <td>e4</td>\n",
       "      <td>1</td>\n",
       "    </tr>\n",
       "  </tbody>\n",
       "</table>\n",
       "</div>"
      ],
      "text/plain": [
       "  doc_id exp_id  weight\n",
       "0     d1     e1       1\n",
       "1     d1     e2       1\n",
       "2     d2     e2       1\n",
       "3     d2     e4       1\n",
       "4     d3     e1       1\n",
       "5     d3     e3       1\n",
       "6     d4     e1       1\n",
       "7     d4     e4       1"
      ]
     },
     "metadata": {},
     "output_type": "display_data"
    }
   ],
   "source": [
    "display(doc_df)\n",
    "display(ed_df)"
   ]
  },
  {
   "cell_type": "markdown",
   "metadata": {},
   "source": [
    "# Data generation"
   ]
  },
  {
   "cell_type": "markdown",
   "metadata": {
    "heading_collapsed": true
   },
   "source": [
    "## Expert-document matrix"
   ]
  },
  {
   "cell_type": "code",
   "execution_count": 8,
   "metadata": {
    "hidden": true
   },
   "outputs": [],
   "source": [
    "ed_matrix = generator.generate_ed_matrix(ed_df)"
   ]
  },
  {
   "cell_type": "code",
   "execution_count": 9,
   "metadata": {
    "hidden": true
   },
   "outputs": [
    {
     "data": {
      "text/html": [
       "<div>\n",
       "<style scoped>\n",
       "    .dataframe tbody tr th:only-of-type {\n",
       "        vertical-align: middle;\n",
       "    }\n",
       "\n",
       "    .dataframe tbody tr th {\n",
       "        vertical-align: top;\n",
       "    }\n",
       "\n",
       "    .dataframe thead th {\n",
       "        text-align: right;\n",
       "    }\n",
       "</style>\n",
       "<table border=\"1\" class=\"dataframe\">\n",
       "  <thead>\n",
       "    <tr style=\"text-align: right;\">\n",
       "      <th></th>\n",
       "      <th>d1</th>\n",
       "      <th>d2</th>\n",
       "      <th>d3</th>\n",
       "      <th>d4</th>\n",
       "    </tr>\n",
       "  </thead>\n",
       "  <tbody>\n",
       "    <tr>\n",
       "      <th>e1</th>\n",
       "      <td>1</td>\n",
       "      <td>0</td>\n",
       "      <td>1</td>\n",
       "      <td>1</td>\n",
       "    </tr>\n",
       "    <tr>\n",
       "      <th>e2</th>\n",
       "      <td>1</td>\n",
       "      <td>1</td>\n",
       "      <td>0</td>\n",
       "      <td>0</td>\n",
       "    </tr>\n",
       "    <tr>\n",
       "      <th>e4</th>\n",
       "      <td>0</td>\n",
       "      <td>0</td>\n",
       "      <td>1</td>\n",
       "      <td>0</td>\n",
       "    </tr>\n",
       "    <tr>\n",
       "      <th>e3</th>\n",
       "      <td>0</td>\n",
       "      <td>1</td>\n",
       "      <td>0</td>\n",
       "      <td>1</td>\n",
       "    </tr>\n",
       "  </tbody>\n",
       "</table>\n",
       "</div>"
      ],
      "text/plain": [
       "    d1  d2  d3  d4\n",
       "e1   1   0   1   1\n",
       "e2   1   1   0   0\n",
       "e4   0   0   1   0\n",
       "e3   0   1   0   1"
      ]
     },
     "metadata": {},
     "output_type": "display_data"
    }
   ],
   "source": [
    "display(ed_matrix)"
   ]
  },
  {
   "cell_type": "markdown",
   "metadata": {
    "heading_collapsed": true
   },
   "source": [
    "## Document-phrase matrix"
   ]
  },
  {
   "cell_type": "code",
   "execution_count": 10,
   "metadata": {
    "hidden": true
   },
   "outputs": [],
   "source": [
    "def dp_pipeline(doc_df, stopwords):\n",
    "    ''' This function contains the pipeline for generating the \n",
    "    document-phrase matrix '''\n",
    "    # Construct corpus (of tokens and noun phrases)\n",
    "    corpus = doc_df['text'].values\n",
    "    X_train = extractor.tokenise_doc(corpus, stopwords, max_phrase_len=3)\n",
    "    \n",
    "    # Generate TF for terms and noun phrases\n",
    "    tf_terms = generator.generate_tf(X_train['tokens'])\n",
    "    tf_phrases = generator.generate_tf(X_train['np'])\n",
    "    \n",
    "    # Generate document-phrase matrix\n",
    "    dp_matrix = generator.generate_dp_matrix(tf_terms, tf_phrases, \n",
    "                                             doc_df['doc_id'], method=\"indirect\")\n",
    "    \n",
    "    \n",
    "    return pd.DataFrame(dp_matrix['matrix'].todense(),\n",
    "                        index=dp_matrix['index'], columns=dp_matrix['columns'])"
   ]
  },
  {
   "cell_type": "code",
   "execution_count": 11,
   "metadata": {
    "hidden": true
   },
   "outputs": [],
   "source": [
    "dp_matrix = dp_pipeline(doc_df, stopwords)"
   ]
  },
  {
   "cell_type": "code",
   "execution_count": 12,
   "metadata": {
    "hidden": true,
    "scrolled": true
   },
   "outputs": [
    {
     "data": {
      "text/html": [
       "<div>\n",
       "<style scoped>\n",
       "    .dataframe tbody tr th:only-of-type {\n",
       "        vertical-align: middle;\n",
       "    }\n",
       "\n",
       "    .dataframe tbody tr th {\n",
       "        vertical-align: top;\n",
       "    }\n",
       "\n",
       "    .dataframe thead th {\n",
       "        text-align: right;\n",
       "    }\n",
       "</style>\n",
       "<table border=\"1\" class=\"dataframe\">\n",
       "  <thead>\n",
       "    <tr style=\"text-align: right;\">\n",
       "      <th></th>\n",
       "      <th>access</th>\n",
       "      <th>addition</th>\n",
       "      <th>advance</th>\n",
       "      <th>advantage</th>\n",
       "      <th>allocation</th>\n",
       "      <th>analysis</th>\n",
       "      <th>answer</th>\n",
       "      <th>answer_archive</th>\n",
       "      <th>answer_service</th>\n",
       "      <th>application_workload</th>\n",
       "      <th>...</th>\n",
       "      <th>users_question</th>\n",
       "      <th>valuable_linguistic_resource</th>\n",
       "      <th>valuable_sense</th>\n",
       "      <th>web</th>\n",
       "      <th>word_overlap</th>\n",
       "      <th>work</th>\n",
       "      <th>workload</th>\n",
       "      <th>workload_characteristic</th>\n",
       "      <th>workload_classifier</th>\n",
       "      <th>workload_type</th>\n",
       "    </tr>\n",
       "    <tr>\n",
       "      <th>doc_id</th>\n",
       "      <th></th>\n",
       "      <th></th>\n",
       "      <th></th>\n",
       "      <th></th>\n",
       "      <th></th>\n",
       "      <th></th>\n",
       "      <th></th>\n",
       "      <th></th>\n",
       "      <th></th>\n",
       "      <th></th>\n",
       "      <th></th>\n",
       "      <th></th>\n",
       "      <th></th>\n",
       "      <th></th>\n",
       "      <th></th>\n",
       "      <th></th>\n",
       "      <th></th>\n",
       "      <th></th>\n",
       "      <th></th>\n",
       "      <th></th>\n",
       "      <th></th>\n",
       "    </tr>\n",
       "  </thead>\n",
       "  <tbody>\n",
       "    <tr>\n",
       "      <th>d1</th>\n",
       "      <td>0.000000</td>\n",
       "      <td>0.000000</td>\n",
       "      <td>0.000000</td>\n",
       "      <td>0.000000</td>\n",
       "      <td>0.000000</td>\n",
       "      <td>0.000000</td>\n",
       "      <td>13.414035</td>\n",
       "      <td>12.45589</td>\n",
       "      <td>9.581453</td>\n",
       "      <td>0.000000</td>\n",
       "      <td>...</td>\n",
       "      <td>10.539599</td>\n",
       "      <td>1.916291</td>\n",
       "      <td>0.958145</td>\n",
       "      <td>1.916291</td>\n",
       "      <td>1.916291</td>\n",
       "      <td>0.000000</td>\n",
       "      <td>0.000000</td>\n",
       "      <td>0.000000</td>\n",
       "      <td>0.000000</td>\n",
       "      <td>0.000000</td>\n",
       "    </tr>\n",
       "    <tr>\n",
       "      <th>d2</th>\n",
       "      <td>0.000000</td>\n",
       "      <td>0.000000</td>\n",
       "      <td>0.000000</td>\n",
       "      <td>1.916291</td>\n",
       "      <td>0.000000</td>\n",
       "      <td>0.000000</td>\n",
       "      <td>0.000000</td>\n",
       "      <td>0.00000</td>\n",
       "      <td>0.000000</td>\n",
       "      <td>0.000000</td>\n",
       "      <td>...</td>\n",
       "      <td>0.000000</td>\n",
       "      <td>0.638764</td>\n",
       "      <td>1.916291</td>\n",
       "      <td>0.000000</td>\n",
       "      <td>0.000000</td>\n",
       "      <td>0.000000</td>\n",
       "      <td>0.000000</td>\n",
       "      <td>0.000000</td>\n",
       "      <td>0.000000</td>\n",
       "      <td>0.000000</td>\n",
       "    </tr>\n",
       "    <tr>\n",
       "      <th>d3</th>\n",
       "      <td>0.000000</td>\n",
       "      <td>0.000000</td>\n",
       "      <td>0.000000</td>\n",
       "      <td>0.000000</td>\n",
       "      <td>1.916291</td>\n",
       "      <td>0.000000</td>\n",
       "      <td>0.000000</td>\n",
       "      <td>0.00000</td>\n",
       "      <td>0.000000</td>\n",
       "      <td>9.581453</td>\n",
       "      <td>...</td>\n",
       "      <td>0.000000</td>\n",
       "      <td>0.638764</td>\n",
       "      <td>0.000000</td>\n",
       "      <td>0.000000</td>\n",
       "      <td>0.000000</td>\n",
       "      <td>1.916291</td>\n",
       "      <td>17.246616</td>\n",
       "      <td>9.581453</td>\n",
       "      <td>10.539599</td>\n",
       "      <td>11.497745</td>\n",
       "    </tr>\n",
       "    <tr>\n",
       "      <th>d4</th>\n",
       "      <td>1.916291</td>\n",
       "      <td>1.916291</td>\n",
       "      <td>1.916291</td>\n",
       "      <td>0.000000</td>\n",
       "      <td>0.000000</td>\n",
       "      <td>3.832582</td>\n",
       "      <td>0.000000</td>\n",
       "      <td>0.00000</td>\n",
       "      <td>0.000000</td>\n",
       "      <td>0.000000</td>\n",
       "      <td>...</td>\n",
       "      <td>0.000000</td>\n",
       "      <td>0.000000</td>\n",
       "      <td>0.000000</td>\n",
       "      <td>0.000000</td>\n",
       "      <td>0.000000</td>\n",
       "      <td>0.000000</td>\n",
       "      <td>0.000000</td>\n",
       "      <td>0.000000</td>\n",
       "      <td>0.000000</td>\n",
       "      <td>7.665163</td>\n",
       "    </tr>\n",
       "  </tbody>\n",
       "</table>\n",
       "<p>4 rows × 121 columns</p>\n",
       "</div>"
      ],
      "text/plain": [
       "          access  addition   advance  advantage  allocation  analysis  \\\n",
       "doc_id                                                                  \n",
       "d1      0.000000  0.000000  0.000000   0.000000    0.000000  0.000000   \n",
       "d2      0.000000  0.000000  0.000000   1.916291    0.000000  0.000000   \n",
       "d3      0.000000  0.000000  0.000000   0.000000    1.916291  0.000000   \n",
       "d4      1.916291  1.916291  1.916291   0.000000    0.000000  3.832582   \n",
       "\n",
       "           answer  answer_archive  answer_service  application_workload  ...  \\\n",
       "doc_id                                                                   ...   \n",
       "d1      13.414035        12.45589        9.581453              0.000000  ...   \n",
       "d2       0.000000         0.00000        0.000000              0.000000  ...   \n",
       "d3       0.000000         0.00000        0.000000              9.581453  ...   \n",
       "d4       0.000000         0.00000        0.000000              0.000000  ...   \n",
       "\n",
       "        users_question  valuable_linguistic_resource  valuable_sense  \\\n",
       "doc_id                                                                 \n",
       "d1           10.539599                      1.916291        0.958145   \n",
       "d2            0.000000                      0.638764        1.916291   \n",
       "d3            0.000000                      0.638764        0.000000   \n",
       "d4            0.000000                      0.000000        0.000000   \n",
       "\n",
       "             web  word_overlap      work   workload  workload_characteristic  \\\n",
       "doc_id                                                                         \n",
       "d1      1.916291      1.916291  0.000000   0.000000                 0.000000   \n",
       "d2      0.000000      0.000000  0.000000   0.000000                 0.000000   \n",
       "d3      0.000000      0.000000  1.916291  17.246616                 9.581453   \n",
       "d4      0.000000      0.000000  0.000000   0.000000                 0.000000   \n",
       "\n",
       "        workload_classifier  workload_type  \n",
       "doc_id                                      \n",
       "d1                 0.000000       0.000000  \n",
       "d2                 0.000000       0.000000  \n",
       "d3                10.539599      11.497745  \n",
       "d4                 0.000000       7.665163  \n",
       "\n",
       "[4 rows x 121 columns]"
      ]
     },
     "metadata": {},
     "output_type": "display_data"
    }
   ],
   "source": [
    "display(dp_matrix)"
   ]
  },
  {
   "cell_type": "markdown",
   "metadata": {},
   "source": [
    "## Document-topic matrix"
   ]
  },
  {
   "cell_type": "code",
   "execution_count": 13,
   "metadata": {},
   "outputs": [],
   "source": [
    "MODEL_PATH = './model/'"
   ]
  },
  {
   "cell_type": "code",
   "execution_count": 14,
   "metadata": {},
   "outputs": [],
   "source": [
    "def dtopic_pipeline(dp_matrix, topics):\n",
    "    ''' This function contaisn the pipeline for generating the \n",
    "    document-topic matrix'''\n",
    "    # Load Scibert model\n",
    "    MODEL_DIR = '{}scibert_scivocab_uncased'.format(MODEL_PATH)\n",
    "    model = BertModel.from_pretrained(MODEL_DIR)\n",
    "    tokenizer = BertTokenizer.from_pretrained(MODEL_DIR)\n",
    "    \n",
    "    # Prepare model dictionary\n",
    "    # Note: For the pretrained vectors of phrases, you will need to read here.\n",
    "    # This example does not contain pretrained vectors\n",
    "    model_dict = {\n",
    "        'model': model,\n",
    "        'tokenizer': tokenizer,\n",
    "        'trained_vectors': None\n",
    "    }\n",
    "    \n",
    "    # Generate document-topic matrix\n",
    "    dtopic_matrix, topic_phrase = generator.generate_dtop_matrix(dp_matrix, topics, \n",
    "                                                                 model_dict, top_n=1)\n",
    "    topic_vec = generator.generate_topic_vector(dtopic_matrix)\n",
    "    dtopic_matrix = pd.DataFrame(dtopic_matrix['matrix'].todense(),\n",
    "                                 index=dtopic_matrix['index'], \n",
    "                                 columns=dtopic_matrix['columns'])\n",
    "    \n",
    "    return dtopic_matrix, topic_vec, topic_phrase"
   ]
  },
  {
   "cell_type": "code",
   "execution_count": 15,
   "metadata": {},
   "outputs": [],
   "source": [
    "dtopic_matrix, topic_vec, topic_phrase = dtopic_pipeline(dp_matrix, topics)"
   ]
  },
  {
   "cell_type": "code",
   "execution_count": 16,
   "metadata": {},
   "outputs": [
    {
     "data": {
      "text/plain": [
       "{'question answer system': [('answer_service', 0.8885146)],\n",
       " 'computational linguistics': [('online_transaction_processing', 0.71243674)],\n",
       " 'clustering method': [('clustering_approach', 0.948566)],\n",
       " 'data mining': [('question_retrieval', 0.8201956)]}"
      ]
     },
     "metadata": {},
     "output_type": "display_data"
    }
   ],
   "source": [
    "display(topic_phrase)"
   ]
  },
  {
   "cell_type": "code",
   "execution_count": 17,
   "metadata": {
    "scrolled": true
   },
   "outputs": [
    {
     "data": {
      "text/html": [
       "<div>\n",
       "<style scoped>\n",
       "    .dataframe tbody tr th:only-of-type {\n",
       "        vertical-align: middle;\n",
       "    }\n",
       "\n",
       "    .dataframe tbody tr th {\n",
       "        vertical-align: top;\n",
       "    }\n",
       "\n",
       "    .dataframe thead th {\n",
       "        text-align: right;\n",
       "    }\n",
       "</style>\n",
       "<table border=\"1\" class=\"dataframe\">\n",
       "  <thead>\n",
       "    <tr style=\"text-align: right;\">\n",
       "      <th></th>\n",
       "      <th>question answer system</th>\n",
       "      <th>computational linguistics</th>\n",
       "      <th>clustering method</th>\n",
       "      <th>data mining</th>\n",
       "    </tr>\n",
       "    <tr>\n",
       "      <th>doc_id</th>\n",
       "      <th></th>\n",
       "      <th></th>\n",
       "      <th></th>\n",
       "      <th></th>\n",
       "    </tr>\n",
       "  </thead>\n",
       "  <tbody>\n",
       "    <tr>\n",
       "      <th>d1</th>\n",
       "      <td>0.454545</td>\n",
       "      <td>0.000000</td>\n",
       "      <td>0.000000</td>\n",
       "      <td>0.545455</td>\n",
       "    </tr>\n",
       "    <tr>\n",
       "      <th>d2</th>\n",
       "      <td>0.000000</td>\n",
       "      <td>0.000000</td>\n",
       "      <td>0.750000</td>\n",
       "      <td>0.250000</td>\n",
       "    </tr>\n",
       "    <tr>\n",
       "      <th>d3</th>\n",
       "      <td>0.000000</td>\n",
       "      <td>0.666667</td>\n",
       "      <td>0.333333</td>\n",
       "      <td>0.000000</td>\n",
       "    </tr>\n",
       "    <tr>\n",
       "      <th>d4</th>\n",
       "      <td>0.000000</td>\n",
       "      <td>0.000000</td>\n",
       "      <td>0.800000</td>\n",
       "      <td>0.200000</td>\n",
       "    </tr>\n",
       "  </tbody>\n",
       "</table>\n",
       "</div>"
      ],
      "text/plain": [
       "        question answer system  computational linguistics  clustering method  \\\n",
       "doc_id                                                                         \n",
       "d1                    0.454545                   0.000000           0.000000   \n",
       "d2                    0.000000                   0.000000           0.750000   \n",
       "d3                    0.000000                   0.666667           0.333333   \n",
       "d4                    0.000000                   0.000000           0.800000   \n",
       "\n",
       "        data mining  \n",
       "doc_id               \n",
       "d1         0.545455  \n",
       "d2         0.250000  \n",
       "d3         0.000000  \n",
       "d4         0.200000  "
      ]
     },
     "metadata": {},
     "output_type": "display_data"
    },
    {
     "data": {
      "text/html": [
       "<div>\n",
       "<style scoped>\n",
       "    .dataframe tbody tr th:only-of-type {\n",
       "        vertical-align: middle;\n",
       "    }\n",
       "\n",
       "    .dataframe tbody tr th {\n",
       "        vertical-align: top;\n",
       "    }\n",
       "\n",
       "    .dataframe thead th {\n",
       "        text-align: right;\n",
       "    }\n",
       "</style>\n",
       "<table border=\"1\" class=\"dataframe\">\n",
       "  <thead>\n",
       "    <tr style=\"text-align: right;\">\n",
       "      <th></th>\n",
       "      <th>weights</th>\n",
       "    </tr>\n",
       "  </thead>\n",
       "  <tbody>\n",
       "    <tr>\n",
       "      <th>question answer system</th>\n",
       "      <td>0.113636</td>\n",
       "    </tr>\n",
       "    <tr>\n",
       "      <th>computational linguistics</th>\n",
       "      <td>0.166667</td>\n",
       "    </tr>\n",
       "    <tr>\n",
       "      <th>clustering method</th>\n",
       "      <td>0.470833</td>\n",
       "    </tr>\n",
       "    <tr>\n",
       "      <th>data mining</th>\n",
       "      <td>0.248864</td>\n",
       "    </tr>\n",
       "  </tbody>\n",
       "</table>\n",
       "</div>"
      ],
      "text/plain": [
       "                            weights\n",
       "question answer system     0.113636\n",
       "computational linguistics  0.166667\n",
       "clustering method          0.470833\n",
       "data mining                0.248864"
      ]
     },
     "metadata": {},
     "output_type": "display_data"
    }
   ],
   "source": [
    "display(dtopic_matrix)\n",
    "display(topic_vec)"
   ]
  },
  {
   "cell_type": "markdown",
   "metadata": {},
   "source": [
    "## Personalised matrices"
   ]
  },
  {
   "cell_type": "code",
   "execution_count": 18,
   "metadata": {},
   "outputs": [],
   "source": [
    "def personalised_pipeline(ed_df, ed_matrix, dtopic_matrix, topic_vec):\n",
    "    # Generate expoert-document graph\n",
    "    edges = ed_df[['doc_id', 'exp_id']].values\n",
    "    G = nx.DiGraph()\n",
    "    G.add_edges_from(edges, weight=1, length=0.05)\n",
    "    \n",
    "    # Generate personalised matrices \n",
    "    etop_matrix, dtop_matrix = generator.generate_pr_matrix(ed_matrix, \n",
    "                                                            dtopic_matrix, \n",
    "                                                            topic_vec['weights'].values, \n",
    "                                                            G, alpha=0.0)\n",
    "    \n",
    "    # Construct DataFrame\n",
    "    etop_matrix = pd.DataFrame(etop_matrix['matrix'].todense(),\n",
    "                               index=etop_matrix['index'],\n",
    "                               columns=etop_matrix['columns'])\n",
    "    dtop_matrix = pd.DataFrame(dtop_matrix['matrix'].todense(),\n",
    "                               index=dtop_matrix['index'],\n",
    "                               columns=dtop_matrix['columns'])\n",
    "    \n",
    "    return etop_matrix, dtop_matrix, G"
   ]
  },
  {
   "cell_type": "code",
   "execution_count": 19,
   "metadata": {},
   "outputs": [],
   "source": [
    "exp_pr_df, doc_pr_df, ed_graph = personalised_pipeline(ed_df, ed_matrix, dtopic_matrix, topic_vec)"
   ]
  },
  {
   "cell_type": "code",
   "execution_count": 20,
   "metadata": {},
   "outputs": [
    {
     "data": {
      "text/html": [
       "<div>\n",
       "<style scoped>\n",
       "    .dataframe tbody tr th:only-of-type {\n",
       "        vertical-align: middle;\n",
       "    }\n",
       "\n",
       "    .dataframe tbody tr th {\n",
       "        vertical-align: top;\n",
       "    }\n",
       "\n",
       "    .dataframe thead th {\n",
       "        text-align: right;\n",
       "    }\n",
       "</style>\n",
       "<table border=\"1\" class=\"dataframe\">\n",
       "  <thead>\n",
       "    <tr style=\"text-align: right;\">\n",
       "      <th></th>\n",
       "      <th>question answer system</th>\n",
       "      <th>computational linguistics</th>\n",
       "      <th>clustering method</th>\n",
       "      <th>data mining</th>\n",
       "    </tr>\n",
       "  </thead>\n",
       "  <tbody>\n",
       "    <tr>\n",
       "      <th>e1</th>\n",
       "      <td>0.454545</td>\n",
       "      <td>0.666667</td>\n",
       "      <td>1.133333</td>\n",
       "      <td>0.745455</td>\n",
       "    </tr>\n",
       "    <tr>\n",
       "      <th>e2</th>\n",
       "      <td>0.454545</td>\n",
       "      <td>0.000000</td>\n",
       "      <td>0.750000</td>\n",
       "      <td>0.795455</td>\n",
       "    </tr>\n",
       "    <tr>\n",
       "      <th>e3</th>\n",
       "      <td>0.000000</td>\n",
       "      <td>0.000000</td>\n",
       "      <td>1.550000</td>\n",
       "      <td>0.450000</td>\n",
       "    </tr>\n",
       "    <tr>\n",
       "      <th>e4</th>\n",
       "      <td>0.000000</td>\n",
       "      <td>0.666667</td>\n",
       "      <td>0.333333</td>\n",
       "      <td>0.000000</td>\n",
       "    </tr>\n",
       "  </tbody>\n",
       "</table>\n",
       "</div>"
      ],
      "text/plain": [
       "    question answer system  computational linguistics  clustering method  \\\n",
       "e1                0.454545                   0.666667           1.133333   \n",
       "e2                0.454545                   0.000000           0.750000   \n",
       "e3                0.000000                   0.000000           1.550000   \n",
       "e4                0.000000                   0.666667           0.333333   \n",
       "\n",
       "    data mining  \n",
       "e1     0.745455  \n",
       "e2     0.795455  \n",
       "e3     0.450000  \n",
       "e4     0.000000  "
      ]
     },
     "metadata": {},
     "output_type": "display_data"
    },
    {
     "data": {
      "text/html": [
       "<div>\n",
       "<style scoped>\n",
       "    .dataframe tbody tr th:only-of-type {\n",
       "        vertical-align: middle;\n",
       "    }\n",
       "\n",
       "    .dataframe tbody tr th {\n",
       "        vertical-align: top;\n",
       "    }\n",
       "\n",
       "    .dataframe thead th {\n",
       "        text-align: right;\n",
       "    }\n",
       "</style>\n",
       "<table border=\"1\" class=\"dataframe\">\n",
       "  <thead>\n",
       "    <tr style=\"text-align: right;\">\n",
       "      <th></th>\n",
       "      <th>question answer system</th>\n",
       "      <th>computational linguistics</th>\n",
       "      <th>clustering method</th>\n",
       "      <th>data mining</th>\n",
       "    </tr>\n",
       "  </thead>\n",
       "  <tbody>\n",
       "    <tr>\n",
       "      <th>d1</th>\n",
       "      <td>0.454545</td>\n",
       "      <td>0.000000</td>\n",
       "      <td>0.000000</td>\n",
       "      <td>0.545455</td>\n",
       "    </tr>\n",
       "    <tr>\n",
       "      <th>d2</th>\n",
       "      <td>0.000000</td>\n",
       "      <td>0.000000</td>\n",
       "      <td>0.750000</td>\n",
       "      <td>0.250000</td>\n",
       "    </tr>\n",
       "    <tr>\n",
       "      <th>d3</th>\n",
       "      <td>0.000000</td>\n",
       "      <td>0.666667</td>\n",
       "      <td>0.333333</td>\n",
       "      <td>0.000000</td>\n",
       "    </tr>\n",
       "    <tr>\n",
       "      <th>d4</th>\n",
       "      <td>0.000000</td>\n",
       "      <td>0.000000</td>\n",
       "      <td>0.800000</td>\n",
       "      <td>0.200000</td>\n",
       "    </tr>\n",
       "  </tbody>\n",
       "</table>\n",
       "</div>"
      ],
      "text/plain": [
       "    question answer system  computational linguistics  clustering method  \\\n",
       "d1                0.454545                   0.000000           0.000000   \n",
       "d2                0.000000                   0.000000           0.750000   \n",
       "d3                0.000000                   0.666667           0.333333   \n",
       "d4                0.000000                   0.000000           0.800000   \n",
       "\n",
       "    data mining  \n",
       "d1     0.545455  \n",
       "d2     0.250000  \n",
       "d3     0.000000  \n",
       "d4     0.200000  "
      ]
     },
     "metadata": {},
     "output_type": "display_data"
    }
   ],
   "source": [
    "display(exp_pr_df.loc[['e1', 'e2', 'e3', 'e4']])\n",
    "display(doc_pr_df.loc[['d1', 'd2', 'd3', 'd4']])"
   ]
  },
  {
   "cell_type": "markdown",
   "metadata": {},
   "source": [
    "## Counted vectors"
   ]
  },
  {
   "cell_type": "code",
   "execution_count": 21,
   "metadata": {},
   "outputs": [],
   "source": [
    "def cv_pipeline(ed_matrix, ed_graph):\n",
    "        # Generate CV expert-document\n",
    "    exp_vec, doc_vec = generator.generate_ed_vector(ed_matrix, ed_graph)\n",
    "    \n",
    "    return exp_vec, doc_vec"
   ]
  },
  {
   "cell_type": "code",
   "execution_count": 22,
   "metadata": {},
   "outputs": [],
   "source": [
    "ed_count, de_count = cv_pipeline(ed_matrix, ed_graph)"
   ]
  },
  {
   "cell_type": "code",
   "execution_count": 23,
   "metadata": {},
   "outputs": [
    {
     "data": {
      "text/html": [
       "<div>\n",
       "<style scoped>\n",
       "    .dataframe tbody tr th:only-of-type {\n",
       "        vertical-align: middle;\n",
       "    }\n",
       "\n",
       "    .dataframe tbody tr th {\n",
       "        vertical-align: top;\n",
       "    }\n",
       "\n",
       "    .dataframe thead th {\n",
       "        text-align: right;\n",
       "    }\n",
       "</style>\n",
       "<table border=\"1\" class=\"dataframe\">\n",
       "  <thead>\n",
       "    <tr style=\"text-align: right;\">\n",
       "      <th></th>\n",
       "      <th>count</th>\n",
       "    </tr>\n",
       "  </thead>\n",
       "  <tbody>\n",
       "    <tr>\n",
       "      <th>d1</th>\n",
       "      <td>1</td>\n",
       "    </tr>\n",
       "    <tr>\n",
       "      <th>e1</th>\n",
       "      <td>3</td>\n",
       "    </tr>\n",
       "    <tr>\n",
       "      <th>e2</th>\n",
       "      <td>2</td>\n",
       "    </tr>\n",
       "    <tr>\n",
       "      <th>d2</th>\n",
       "      <td>1</td>\n",
       "    </tr>\n",
       "    <tr>\n",
       "      <th>e4</th>\n",
       "      <td>1</td>\n",
       "    </tr>\n",
       "    <tr>\n",
       "      <th>d3</th>\n",
       "      <td>1</td>\n",
       "    </tr>\n",
       "    <tr>\n",
       "      <th>e3</th>\n",
       "      <td>2</td>\n",
       "    </tr>\n",
       "    <tr>\n",
       "      <th>d4</th>\n",
       "      <td>1</td>\n",
       "    </tr>\n",
       "  </tbody>\n",
       "</table>\n",
       "</div>"
      ],
      "text/plain": [
       "    count\n",
       "d1      1\n",
       "e1      3\n",
       "e2      2\n",
       "d2      1\n",
       "e4      1\n",
       "d3      1\n",
       "e3      2\n",
       "d4      1"
      ]
     },
     "metadata": {},
     "output_type": "display_data"
    },
    {
     "data": {
      "text/html": [
       "<div>\n",
       "<style scoped>\n",
       "    .dataframe tbody tr th:only-of-type {\n",
       "        vertical-align: middle;\n",
       "    }\n",
       "\n",
       "    .dataframe tbody tr th {\n",
       "        vertical-align: top;\n",
       "    }\n",
       "\n",
       "    .dataframe thead th {\n",
       "        text-align: right;\n",
       "    }\n",
       "</style>\n",
       "<table border=\"1\" class=\"dataframe\">\n",
       "  <thead>\n",
       "    <tr style=\"text-align: right;\">\n",
       "      <th></th>\n",
       "      <th>count</th>\n",
       "    </tr>\n",
       "  </thead>\n",
       "  <tbody>\n",
       "    <tr>\n",
       "      <th>d1</th>\n",
       "      <td>2</td>\n",
       "    </tr>\n",
       "    <tr>\n",
       "      <th>e1</th>\n",
       "      <td>1</td>\n",
       "    </tr>\n",
       "    <tr>\n",
       "      <th>e2</th>\n",
       "      <td>1</td>\n",
       "    </tr>\n",
       "    <tr>\n",
       "      <th>d2</th>\n",
       "      <td>2</td>\n",
       "    </tr>\n",
       "    <tr>\n",
       "      <th>e4</th>\n",
       "      <td>1</td>\n",
       "    </tr>\n",
       "    <tr>\n",
       "      <th>d3</th>\n",
       "      <td>2</td>\n",
       "    </tr>\n",
       "    <tr>\n",
       "      <th>e3</th>\n",
       "      <td>1</td>\n",
       "    </tr>\n",
       "    <tr>\n",
       "      <th>d4</th>\n",
       "      <td>2</td>\n",
       "    </tr>\n",
       "  </tbody>\n",
       "</table>\n",
       "</div>"
      ],
      "text/plain": [
       "    count\n",
       "d1      2\n",
       "e1      1\n",
       "e2      1\n",
       "d2      2\n",
       "e4      1\n",
       "d3      2\n",
       "e3      1\n",
       "d4      2"
      ]
     },
     "metadata": {},
     "output_type": "display_data"
    }
   ],
   "source": [
    "display(ed_count)\n",
    "display(de_count)"
   ]
  },
  {
   "cell_type": "markdown",
   "metadata": {},
   "source": [
    "# ExpFinder algorithm"
   ]
  },
  {
   "cell_type": "markdown",
   "metadata": {},
   "source": [
    "The algorithm runs on 4 experts, 4 documents and 4 topics in 5 iterations with $\\lambda_{x} = 1.0$ and $\\lambda_{d} = 0.7$. Figure 1 shows the directed bipartite graph from documents to experts.\n",
    "\n",
    "![Expert-Document graph](https://github.com/Yongbinkang/ExpFinder/blob/main/images/EP_graph.png?raw=true)\n",
    "<center>\n",
    "    Figure 1: <i>The directed bipartite graph from documents to experts.</i>\n",
    "</center>"
   ]
  },
  {
   "cell_type": "code",
   "execution_count": 25,
   "metadata": {},
   "outputs": [],
   "source": [
    "def ef_pipeline(ed_matrix, ed_graph, exp_pr_df, doc_pr_df, ed_count, de_count):\n",
    "    # Intialise parameters\n",
    "    params = {\n",
    "        'ed_graph': ed_graph,\n",
    "        'ed_matrix': ed_matrix,\n",
    "        'et_matrix': exp_pr_df,\n",
    "        'dt_matrix': doc_pr_df,\n",
    "        'lamb_e': 1.0,\n",
    "        'lamb_d': 0.7,\n",
    "        'max_iter': 5,\n",
    "        'ed_count': ed_count,\n",
    "        'de_count': de_count\n",
    "    }\n",
    "    topics = doc_pr_df.columns\n",
    "    \n",
    "    # Run model\n",
    "    etop_matrix = trainer.run_expfinder(topics, params)\n",
    "    \n",
    "    display(etop_matrix)"
   ]
  },
  {
   "cell_type": "code",
   "execution_count": 26,
   "metadata": {},
   "outputs": [
    {
     "data": {
      "text/html": [
       "<div>\n",
       "<style scoped>\n",
       "    .dataframe tbody tr th:only-of-type {\n",
       "        vertical-align: middle;\n",
       "    }\n",
       "\n",
       "    .dataframe tbody tr th {\n",
       "        vertical-align: top;\n",
       "    }\n",
       "\n",
       "    .dataframe thead th {\n",
       "        text-align: right;\n",
       "    }\n",
       "</style>\n",
       "<table border=\"1\" class=\"dataframe\">\n",
       "  <thead>\n",
       "    <tr style=\"text-align: right;\">\n",
       "      <th></th>\n",
       "      <th>e1</th>\n",
       "      <th>e2</th>\n",
       "      <th>e4</th>\n",
       "      <th>e3</th>\n",
       "    </tr>\n",
       "  </thead>\n",
       "  <tbody>\n",
       "    <tr>\n",
       "      <th>question answer system</th>\n",
       "      <td>0.270876</td>\n",
       "      <td>0.351973</td>\n",
       "      <td>0.893352</td>\n",
       "      <td>0.068286</td>\n",
       "    </tr>\n",
       "    <tr>\n",
       "      <th>computational linguistics</th>\n",
       "      <td>0.273925</td>\n",
       "      <td>0.348171</td>\n",
       "      <td>0.893526</td>\n",
       "      <td>0.073161</td>\n",
       "    </tr>\n",
       "    <tr>\n",
       "      <th>clustering method</th>\n",
       "      <td>0.266421</td>\n",
       "      <td>0.346590</td>\n",
       "      <td>0.896962</td>\n",
       "      <td>0.065992</td>\n",
       "    </tr>\n",
       "    <tr>\n",
       "      <th>data mining</th>\n",
       "      <td>0.268491</td>\n",
       "      <td>0.350533</td>\n",
       "      <td>0.894770</td>\n",
       "      <td>0.066533</td>\n",
       "    </tr>\n",
       "  </tbody>\n",
       "</table>\n",
       "</div>"
      ],
      "text/plain": [
       "                                 e1        e2        e4        e3\n",
       "question answer system     0.270876  0.351973  0.893352  0.068286\n",
       "computational linguistics  0.273925  0.348171  0.893526  0.073161\n",
       "clustering method          0.266421  0.346590  0.896962  0.065992\n",
       "data mining                0.268491  0.350533  0.894770  0.066533"
      ]
     },
     "metadata": {},
     "output_type": "display_data"
    }
   ],
   "source": [
    "ef_pipeline(ed_matrix, ed_graph, exp_pr_df, doc_pr_df, ed_count, de_count)"
   ]
  }
 ],
 "metadata": {
  "kernelspec": {
   "display_name": "Python 3",
   "language": "python",
   "name": "python3"
  },
  "language_info": {
   "codemirror_mode": {
    "name": "ipython",
    "version": 3
   },
   "file_extension": ".py",
   "mimetype": "text/x-python",
   "name": "python",
   "nbconvert_exporter": "python",
   "pygments_lexer": "ipython3",
   "version": "3.7.3"
  },
  "latex_envs": {
   "LaTeX_envs_menu_present": true,
   "autoclose": false,
   "autocomplete": true,
   "bibliofile": "biblio.bib",
   "cite_by": "apalike",
   "current_citInitial": 1,
   "eqLabelWithNumbers": true,
   "eqNumInitial": 1,
   "hotkeys": {
    "equation": "Ctrl-E",
    "itemize": "Ctrl-I"
   },
   "labels_anchors": false,
   "latex_user_defs": false,
   "report_style_numbering": false,
   "user_envs_cfg": false
  },
  "toc": {
   "base_numbering": 1,
   "nav_menu": {},
   "number_sections": true,
   "sideBar": true,
   "skip_h1_title": false,
   "title_cell": "Table of Contents",
   "title_sidebar": "Contents",
   "toc_cell": false,
   "toc_position": {},
   "toc_section_display": true,
   "toc_window_display": false
  }
 },
 "nbformat": 4,
 "nbformat_minor": 4
}
